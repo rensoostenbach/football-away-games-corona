{
 "cells": [
  {
   "cell_type": "code",
   "execution_count": 1,
   "metadata": {},
   "outputs": [],
   "source": [
    "import pandas as pd\n",
    "import numpy as np"
   ]
  },
  {
   "cell_type": "code",
   "execution_count": 6,
   "metadata": {},
   "outputs": [],
   "source": [
    "df = pd.read_pickle('data\\BL1_2020.pickle')"
   ]
  },
  {
   "cell_type": "markdown",
   "metadata": {},
   "source": [
    "## Corona preprocessing and figuring stuff out with dates"
   ]
  },
  {
   "cell_type": "code",
   "execution_count": 15,
   "metadata": {},
   "outputs": [],
   "source": [
    "df[\"utcDate\"] = pd.to_datetime(df[\"utcDate\"]).dt.tz_localize(None)"
   ]
  },
  {
   "cell_type": "code",
   "execution_count": 18,
   "metadata": {},
   "outputs": [],
   "source": [
    "df[\"corona\"]= np.where(df[\"utcDate\"] < pd.Timestamp(\"2020-11-05\").floor('D'),\"pre\",\"post\")"
   ]
  },
  {
   "cell_type": "code",
   "execution_count": 19,
   "metadata": {},
   "outputs": [
    {
     "data": {
      "text/plain": [
       "id\n",
       "301998     pre\n",
       "301999     pre\n",
       "302000     pre\n",
       "302001     pre\n",
       "302002     pre\n",
       "          ... \n",
       "302065    post\n",
       "302064    post\n",
       "302068    post\n",
       "302063    post\n",
       "302066    post\n",
       "Name: corona, Length: 71, dtype: object"
      ]
     },
     "execution_count": 19,
     "metadata": {},
     "output_type": "execute_result"
    }
   ],
   "source": [
    "df[\"corona\"]"
   ]
  },
  {
   "cell_type": "markdown",
   "metadata": {},
   "source": [
    "## Winner related stuff"
   ]
  },
  {
   "cell_type": "code",
   "execution_count": 2,
   "metadata": {},
   "outputs": [],
   "source": [
    "df = pd.read_pickle('data/all_data.pickle')\n",
    "df = df[(df['corona'] == 'post') & (df['league'] == 'BL1')]"
   ]
  },
  {
   "cell_type": "code",
   "execution_count": 5,
   "metadata": {},
   "outputs": [],
   "source": [
    "reorderlist = ['HOME_TEAM', 'AWAY_TEAM', 'DRAW']"
   ]
  },
  {
   "cell_type": "code",
   "execution_count": null,
   "metadata": {},
   "outputs": [],
   "source": []
  },
  {
   "cell_type": "code",
   "execution_count": 3,
   "metadata": {},
   "outputs": [
    {
     "data": {
      "text/plain": [
       "id\n",
       "271631    HOME_TEAM\n",
       "271635         DRAW\n",
       "271596    HOME_TEAM\n",
       "271639    HOME_TEAM\n",
       "271641         DRAW\n",
       "            ...    \n",
       "303063    HOME_TEAM\n",
       "303064    HOME_TEAM\n",
       "303056    AWAY_TEAM\n",
       "303060    HOME_TEAM\n",
       "303059    HOME_TEAM\n",
       "Name: winner, Length: 150, dtype: object"
      ]
     },
     "execution_count": 3,
     "metadata": {},
     "output_type": "execute_result"
    }
   ],
   "source": [
    "df['winner']"
   ]
  },
  {
   "cell_type": "code",
   "execution_count": 6,
   "metadata": {},
   "outputs": [
    {
     "data": {
      "text/plain": [
       "HOME_TEAM    51\n",
       "AWAY_TEAM    57\n",
       "DRAW         42\n",
       "Name: winner, dtype: int64"
      ]
     },
     "execution_count": 6,
     "metadata": {},
     "output_type": "execute_result"
    }
   ],
   "source": [
    "df['winner'].value_counts().reindex(reorderlist)"
   ]
  },
  {
   "cell_type": "code",
   "execution_count": 32,
   "metadata": {},
   "outputs": [
    {
     "data": {
      "text/html": [
       "<div>\n",
       "<style scoped>\n",
       "    .dataframe tbody tr th:only-of-type {\n",
       "        vertical-align: middle;\n",
       "    }\n",
       "\n",
       "    .dataframe tbody tr th {\n",
       "        vertical-align: top;\n",
       "    }\n",
       "\n",
       "    .dataframe thead th {\n",
       "        text-align: right;\n",
       "    }\n",
       "</style>\n",
       "<table border=\"1\" class=\"dataframe\">\n",
       "  <thead>\n",
       "    <tr style=\"text-align: right;\">\n",
       "      <th></th>\n",
       "      <th>Team</th>\n",
       "      <th>Counts</th>\n",
       "    </tr>\n",
       "  </thead>\n",
       "  <tbody>\n",
       "    <tr>\n",
       "      <th>0</th>\n",
       "      <td>HOME_TEAM</td>\n",
       "      <td>51</td>\n",
       "    </tr>\n",
       "    <tr>\n",
       "      <th>1</th>\n",
       "      <td>DRAW</td>\n",
       "      <td>42</td>\n",
       "    </tr>\n",
       "    <tr>\n",
       "      <th>2</th>\n",
       "      <td>AWAY_TEAM</td>\n",
       "      <td>57</td>\n",
       "    </tr>\n",
       "  </tbody>\n",
       "</table>\n",
       "</div>"
      ],
      "text/plain": [
       "        Team  Counts\n",
       "0  HOME_TEAM      51\n",
       "1       DRAW      42\n",
       "2  AWAY_TEAM      57"
      ]
     },
     "execution_count": 32,
     "metadata": {},
     "output_type": "execute_result"
    }
   ],
   "source": [
    "df['winner'].value_counts().sort_index(ascending=False).rename_axis('Team').reset_index(name='Counts')"
   ]
  },
  {
   "cell_type": "code",
   "execution_count": 17,
   "metadata": {},
   "outputs": [
    {
     "data": {
      "text/plain": [
       "9"
      ]
     },
     "execution_count": 17,
     "metadata": {},
     "output_type": "execute_result"
    }
   ],
   "source": [
    "len(df[df['matchday'] == 2.0])"
   ]
  },
  {
   "cell_type": "code",
   "execution_count": 24,
   "metadata": {},
   "outputs": [
    {
     "data": {
      "text/html": [
       "<div>\n",
       "<style scoped>\n",
       "    .dataframe tbody tr th:only-of-type {\n",
       "        vertical-align: middle;\n",
       "    }\n",
       "\n",
       "    .dataframe tbody tr th {\n",
       "        vertical-align: top;\n",
       "    }\n",
       "\n",
       "    .dataframe thead th {\n",
       "        text-align: right;\n",
       "    }\n",
       "</style>\n",
       "<table border=\"1\" class=\"dataframe\">\n",
       "  <thead>\n",
       "    <tr style=\"text-align: right;\">\n",
       "      <th></th>\n",
       "      <th>winner</th>\n",
       "      <th>homeTeam</th>\n",
       "      <th>awayTeam</th>\n",
       "    </tr>\n",
       "    <tr>\n",
       "      <th>id</th>\n",
       "      <th></th>\n",
       "      <th></th>\n",
       "      <th></th>\n",
       "    </tr>\n",
       "  </thead>\n",
       "  <tbody>\n",
       "    <tr>\n",
       "      <th>301998</th>\n",
       "      <td>HOME_TEAM</td>\n",
       "      <td>{'id': 673, 'name': 'SC Heerenveen'}</td>\n",
       "      <td>{'id': 672, 'name': 'Willem II Tilburg'}</td>\n",
       "    </tr>\n",
       "    <tr>\n",
       "      <th>301999</th>\n",
       "      <td>AWAY_TEAM</td>\n",
       "      <td>{'id': 684, 'name': 'PEC Zwolle'}</td>\n",
       "      <td>{'id': 675, 'name': 'Feyenoord Rotterdam'}</td>\n",
       "    </tr>\n",
       "    <tr>\n",
       "      <th>302000</th>\n",
       "      <td>HOME_TEAM</td>\n",
       "      <td>{'id': 666, 'name': 'FC Twente '65'}</td>\n",
       "      <td>{'id': 1920, 'name': 'Fortuna Sittard'}</td>\n",
       "    </tr>\n",
       "    <tr>\n",
       "      <th>302001</th>\n",
       "      <td>AWAY_TEAM</td>\n",
       "      <td>{'id': 1914, 'name': 'FC Emmen'}</td>\n",
       "      <td>{'id': 668, 'name': 'VVV Venlo'}</td>\n",
       "    </tr>\n",
       "    <tr>\n",
       "      <th>302002</th>\n",
       "      <td>HOME_TEAM</td>\n",
       "      <td>{'id': 671, 'name': 'Heracles Almelo'}</td>\n",
       "      <td>{'id': 680, 'name': 'ADO Den Haag'}</td>\n",
       "    </tr>\n",
       "    <tr>\n",
       "      <th>...</th>\n",
       "      <td>...</td>\n",
       "      <td>...</td>\n",
       "      <td>...</td>\n",
       "    </tr>\n",
       "    <tr>\n",
       "      <th>302065</th>\n",
       "      <td>AWAY_TEAM</td>\n",
       "      <td>{'id': 676, 'name': 'FC Utrecht'}</td>\n",
       "      <td>{'id': 678, 'name': 'AFC Ajax'}</td>\n",
       "    </tr>\n",
       "    <tr>\n",
       "      <th>302064</th>\n",
       "      <td>HOME_TEAM</td>\n",
       "      <td>{'id': 679, 'name': 'SBV Vitesse'}</td>\n",
       "      <td>{'id': 1914, 'name': 'FC Emmen'}</td>\n",
       "    </tr>\n",
       "    <tr>\n",
       "      <th>302068</th>\n",
       "      <td>HOME_TEAM</td>\n",
       "      <td>{'id': 675, 'name': 'Feyenoord Rotterdam'}</td>\n",
       "      <td>{'id': 677, 'name': 'FC Groningen'}</td>\n",
       "    </tr>\n",
       "    <tr>\n",
       "      <th>302063</th>\n",
       "      <td>AWAY_TEAM</td>\n",
       "      <td>{'id': 673, 'name': 'SC Heerenveen'}</td>\n",
       "      <td>{'id': 682, 'name': 'AZ'}</td>\n",
       "    </tr>\n",
       "    <tr>\n",
       "      <th>302066</th>\n",
       "      <td>HOME_TEAM</td>\n",
       "      <td>{'id': 674, 'name': 'PSV'}</td>\n",
       "      <td>{'id': 672, 'name': 'Willem II Tilburg'}</td>\n",
       "    </tr>\n",
       "  </tbody>\n",
       "</table>\n",
       "<p>71 rows × 3 columns</p>\n",
       "</div>"
      ],
      "text/plain": [
       "           winner                                    homeTeam  \\\n",
       "id                                                              \n",
       "301998  HOME_TEAM        {'id': 673, 'name': 'SC Heerenveen'}   \n",
       "301999  AWAY_TEAM           {'id': 684, 'name': 'PEC Zwolle'}   \n",
       "302000  HOME_TEAM        {'id': 666, 'name': 'FC Twente '65'}   \n",
       "302001  AWAY_TEAM            {'id': 1914, 'name': 'FC Emmen'}   \n",
       "302002  HOME_TEAM      {'id': 671, 'name': 'Heracles Almelo'}   \n",
       "...           ...                                         ...   \n",
       "302065  AWAY_TEAM           {'id': 676, 'name': 'FC Utrecht'}   \n",
       "302064  HOME_TEAM          {'id': 679, 'name': 'SBV Vitesse'}   \n",
       "302068  HOME_TEAM  {'id': 675, 'name': 'Feyenoord Rotterdam'}   \n",
       "302063  AWAY_TEAM        {'id': 673, 'name': 'SC Heerenveen'}   \n",
       "302066  HOME_TEAM                  {'id': 674, 'name': 'PSV'}   \n",
       "\n",
       "                                          awayTeam  \n",
       "id                                                  \n",
       "301998    {'id': 672, 'name': 'Willem II Tilburg'}  \n",
       "301999  {'id': 675, 'name': 'Feyenoord Rotterdam'}  \n",
       "302000     {'id': 1920, 'name': 'Fortuna Sittard'}  \n",
       "302001            {'id': 668, 'name': 'VVV Venlo'}  \n",
       "302002         {'id': 680, 'name': 'ADO Den Haag'}  \n",
       "...                                            ...  \n",
       "302065             {'id': 678, 'name': 'AFC Ajax'}  \n",
       "302064            {'id': 1914, 'name': 'FC Emmen'}  \n",
       "302068         {'id': 677, 'name': 'FC Groningen'}  \n",
       "302063                   {'id': 682, 'name': 'AZ'}  \n",
       "302066    {'id': 672, 'name': 'Willem II Tilburg'}  \n",
       "\n",
       "[71 rows x 3 columns]"
      ]
     },
     "execution_count": 24,
     "metadata": {},
     "output_type": "execute_result"
    }
   ],
   "source": [
    "dff[['winner', 'homeTeam', 'awayTeam']]"
   ]
  },
  {
   "cell_type": "code",
   "execution_count": 42,
   "metadata": {},
   "outputs": [],
   "source": [
    "dff = df[['winner', 'homeTeamName', 'awayTeamName']]\n",
    "all_teams = df['homeTeamName'].unique()"
   ]
  },
  {
   "cell_type": "code",
   "execution_count": 94,
   "metadata": {},
   "outputs": [],
   "source": [
    "df['homeTeamName'].unique().sort()"
   ]
  },
  {
   "cell_type": "code",
   "execution_count": 97,
   "metadata": {},
   "outputs": [],
   "source": [
    "all_teams = df['homeTeamName'].unique()"
   ]
  },
  {
   "cell_type": "code",
   "execution_count": 98,
   "metadata": {},
   "outputs": [
    {
     "data": {
      "text/plain": [
       "array(['SC Heerenveen', 'PEC Zwolle', \"FC Twente '65\", 'FC Emmen',\n",
       "       'Heracles Almelo', 'Sparta Rotterdam', 'RKC Waalwijk',\n",
       "       'FC Groningen', 'VVV Venlo', 'AZ', 'SBV Vitesse', 'PSV',\n",
       "       'Fortuna Sittard', 'ADO Den Haag', 'Feyenoord Rotterdam',\n",
       "       'Willem II Tilburg', 'AFC Ajax', 'FC Utrecht'], dtype=object)"
      ]
     },
     "execution_count": 98,
     "metadata": {},
     "output_type": "execute_result"
    }
   ],
   "source": [
    "all_teams"
   ]
  },
  {
   "cell_type": "code",
   "execution_count": 99,
   "metadata": {},
   "outputs": [
    {
     "data": {
      "text/plain": [
       "array(['ADO Den Haag', 'AFC Ajax', 'AZ', 'FC Emmen', 'FC Groningen',\n",
       "       \"FC Twente '65\", 'FC Utrecht', 'Feyenoord Rotterdam',\n",
       "       'Fortuna Sittard', 'Heracles Almelo', 'PEC Zwolle', 'PSV',\n",
       "       'RKC Waalwijk', 'SBV Vitesse', 'SC Heerenveen', 'Sparta Rotterdam',\n",
       "       'VVV Venlo', 'Willem II Tilburg'], dtype=object)"
      ]
     },
     "execution_count": 99,
     "metadata": {},
     "output_type": "execute_result"
    }
   ],
   "source": [
    "np.sort(all_teams)"
   ]
  },
  {
   "cell_type": "code",
   "execution_count": 50,
   "metadata": {},
   "outputs": [],
   "source": [
    "teams_df = pd.DataFrame(0, index=df['winner'].unique(), columns=all_teams)"
   ]
  },
  {
   "cell_type": "code",
   "execution_count": 51,
   "metadata": {},
   "outputs": [
    {
     "data": {
      "text/html": [
       "<div>\n",
       "<style scoped>\n",
       "    .dataframe tbody tr th:only-of-type {\n",
       "        vertical-align: middle;\n",
       "    }\n",
       "\n",
       "    .dataframe tbody tr th {\n",
       "        vertical-align: top;\n",
       "    }\n",
       "\n",
       "    .dataframe thead th {\n",
       "        text-align: right;\n",
       "    }\n",
       "</style>\n",
       "<table border=\"1\" class=\"dataframe\">\n",
       "  <thead>\n",
       "    <tr style=\"text-align: right;\">\n",
       "      <th></th>\n",
       "      <th>SC Heerenveen</th>\n",
       "      <th>PEC Zwolle</th>\n",
       "      <th>FC Twente '65</th>\n",
       "      <th>FC Emmen</th>\n",
       "      <th>Heracles Almelo</th>\n",
       "      <th>Sparta Rotterdam</th>\n",
       "      <th>RKC Waalwijk</th>\n",
       "      <th>FC Groningen</th>\n",
       "      <th>VVV Venlo</th>\n",
       "      <th>AZ</th>\n",
       "      <th>SBV Vitesse</th>\n",
       "      <th>PSV</th>\n",
       "      <th>Fortuna Sittard</th>\n",
       "      <th>ADO Den Haag</th>\n",
       "      <th>Feyenoord Rotterdam</th>\n",
       "      <th>Willem II Tilburg</th>\n",
       "      <th>AFC Ajax</th>\n",
       "      <th>FC Utrecht</th>\n",
       "    </tr>\n",
       "  </thead>\n",
       "  <tbody>\n",
       "    <tr>\n",
       "      <th>HOME_TEAM</th>\n",
       "      <td>0</td>\n",
       "      <td>0</td>\n",
       "      <td>0</td>\n",
       "      <td>0</td>\n",
       "      <td>0</td>\n",
       "      <td>0</td>\n",
       "      <td>0</td>\n",
       "      <td>0</td>\n",
       "      <td>0</td>\n",
       "      <td>0</td>\n",
       "      <td>0</td>\n",
       "      <td>0</td>\n",
       "      <td>0</td>\n",
       "      <td>0</td>\n",
       "      <td>0</td>\n",
       "      <td>0</td>\n",
       "      <td>0</td>\n",
       "      <td>0</td>\n",
       "    </tr>\n",
       "    <tr>\n",
       "      <th>AWAY_TEAM</th>\n",
       "      <td>0</td>\n",
       "      <td>0</td>\n",
       "      <td>0</td>\n",
       "      <td>0</td>\n",
       "      <td>0</td>\n",
       "      <td>0</td>\n",
       "      <td>0</td>\n",
       "      <td>0</td>\n",
       "      <td>0</td>\n",
       "      <td>0</td>\n",
       "      <td>0</td>\n",
       "      <td>0</td>\n",
       "      <td>0</td>\n",
       "      <td>0</td>\n",
       "      <td>0</td>\n",
       "      <td>0</td>\n",
       "      <td>0</td>\n",
       "      <td>0</td>\n",
       "    </tr>\n",
       "    <tr>\n",
       "      <th>DRAW</th>\n",
       "      <td>0</td>\n",
       "      <td>0</td>\n",
       "      <td>0</td>\n",
       "      <td>0</td>\n",
       "      <td>0</td>\n",
       "      <td>0</td>\n",
       "      <td>0</td>\n",
       "      <td>0</td>\n",
       "      <td>0</td>\n",
       "      <td>0</td>\n",
       "      <td>0</td>\n",
       "      <td>0</td>\n",
       "      <td>0</td>\n",
       "      <td>0</td>\n",
       "      <td>0</td>\n",
       "      <td>0</td>\n",
       "      <td>0</td>\n",
       "      <td>0</td>\n",
       "    </tr>\n",
       "  </tbody>\n",
       "</table>\n",
       "</div>"
      ],
      "text/plain": [
       "           SC Heerenveen  PEC Zwolle  FC Twente '65  FC Emmen  \\\n",
       "HOME_TEAM              0           0              0         0   \n",
       "AWAY_TEAM              0           0              0         0   \n",
       "DRAW                   0           0              0         0   \n",
       "\n",
       "           Heracles Almelo  Sparta Rotterdam  RKC Waalwijk  FC Groningen  \\\n",
       "HOME_TEAM                0                 0             0             0   \n",
       "AWAY_TEAM                0                 0             0             0   \n",
       "DRAW                     0                 0             0             0   \n",
       "\n",
       "           VVV Venlo  AZ  SBV Vitesse  PSV  Fortuna Sittard  ADO Den Haag  \\\n",
       "HOME_TEAM          0   0            0    0                0             0   \n",
       "AWAY_TEAM          0   0            0    0                0             0   \n",
       "DRAW               0   0            0    0                0             0   \n",
       "\n",
       "           Feyenoord Rotterdam  Willem II Tilburg  AFC Ajax  FC Utrecht  \n",
       "HOME_TEAM                    0                  0         0           0  \n",
       "AWAY_TEAM                    0                  0         0           0  \n",
       "DRAW                         0                  0         0           0  "
      ]
     },
     "execution_count": 51,
     "metadata": {},
     "output_type": "execute_result"
    }
   ],
   "source": [
    "teams_df"
   ]
  },
  {
   "cell_type": "code",
   "execution_count": 52,
   "metadata": {},
   "outputs": [
    {
     "data": {
      "text/plain": [
       "0"
      ]
     },
     "execution_count": 52,
     "metadata": {},
     "output_type": "execute_result"
    }
   ],
   "source": [
    "teams_df['PSV']['HOME_TEAM']"
   ]
  },
  {
   "cell_type": "code",
   "execution_count": 90,
   "metadata": {},
   "outputs": [],
   "source": [
    "def test(dff, teams_df):\n",
    "    for index, row in dff.iterrows():\n",
    "        if row[0] == 'HOME_TEAM':\n",
    "            teams_df[row[1]]['HOME_TEAM'] += 1\n",
    "        elif row[0] == 'AWAY_TEAM':\n",
    "            teams_df[row[2]]['AWAY_TEAM'] += 1\n",
    "        elif row[0] == 'DRAW':\n",
    "            teams_df[row[1]]['DRAW'] += 1\n",
    "            teams_df[row[2]]['DRAW'] += 1\n",
    "        print(1)\n",
    "    return teams_df"
   ]
  },
  {
   "cell_type": "code",
   "execution_count": 70,
   "metadata": {},
   "outputs": [],
   "source": [
    "def fill_df_teams(df, df_teams):\n",
    "    for index, row in df.iterrows():\n",
    "        if row[0] == 'HOME_TEAM':\n",
    "            df_teams[row[1]]['HOME_TEAM'] += 1\n",
    "        elif row[0] == 'AWAY_TEAM':\n",
    "            df_teams[row[2]]['AWAY_TEAM'] += 1\n",
    "        elif row[0] == 'DRAW':\n",
    "            df_teams[row[1]]['DRAW'] += 1\n",
    "            df_teams[row[2]]['DRAW'] += 1\n",
    "\n",
    "        print(1)\n",
    "        return df_teams"
   ]
  },
  {
   "cell_type": "code",
   "execution_count": 89,
   "metadata": {},
   "outputs": [
    {
     "name": "stdout",
     "output_type": "stream",
     "text": [
      "1\n"
     ]
    }
   ],
   "source": [
    "df_teams = pd.DataFrame(0, index=df['winner'].unique(), columns=all_teams)\n",
    "df_teams = fill_df_teams(df[['winner', 'homeTeamName', 'awayTeamName']], df_teams)"
   ]
  },
  {
   "cell_type": "code",
   "execution_count": 85,
   "metadata": {},
   "outputs": [
    {
     "data": {
      "text/html": [
       "<div>\n",
       "<style scoped>\n",
       "    .dataframe tbody tr th:only-of-type {\n",
       "        vertical-align: middle;\n",
       "    }\n",
       "\n",
       "    .dataframe tbody tr th {\n",
       "        vertical-align: top;\n",
       "    }\n",
       "\n",
       "    .dataframe thead th {\n",
       "        text-align: right;\n",
       "    }\n",
       "</style>\n",
       "<table border=\"1\" class=\"dataframe\">\n",
       "  <thead>\n",
       "    <tr style=\"text-align: right;\">\n",
       "      <th></th>\n",
       "      <th>SC Heerenveen</th>\n",
       "      <th>PEC Zwolle</th>\n",
       "      <th>FC Twente '65</th>\n",
       "      <th>FC Emmen</th>\n",
       "      <th>Heracles Almelo</th>\n",
       "      <th>Sparta Rotterdam</th>\n",
       "      <th>RKC Waalwijk</th>\n",
       "      <th>FC Groningen</th>\n",
       "      <th>VVV Venlo</th>\n",
       "      <th>AZ</th>\n",
       "      <th>SBV Vitesse</th>\n",
       "      <th>PSV</th>\n",
       "      <th>Fortuna Sittard</th>\n",
       "      <th>ADO Den Haag</th>\n",
       "      <th>Feyenoord Rotterdam</th>\n",
       "      <th>Willem II Tilburg</th>\n",
       "      <th>AFC Ajax</th>\n",
       "      <th>FC Utrecht</th>\n",
       "    </tr>\n",
       "  </thead>\n",
       "  <tbody>\n",
       "    <tr>\n",
       "      <th>HOME_TEAM</th>\n",
       "      <td>0</td>\n",
       "      <td>0</td>\n",
       "      <td>0</td>\n",
       "      <td>0</td>\n",
       "      <td>0</td>\n",
       "      <td>0</td>\n",
       "      <td>0</td>\n",
       "      <td>0</td>\n",
       "      <td>0</td>\n",
       "      <td>0</td>\n",
       "      <td>0</td>\n",
       "      <td>0</td>\n",
       "      <td>0</td>\n",
       "      <td>0</td>\n",
       "      <td>0</td>\n",
       "      <td>0</td>\n",
       "      <td>0</td>\n",
       "      <td>0</td>\n",
       "    </tr>\n",
       "    <tr>\n",
       "      <th>AWAY_TEAM</th>\n",
       "      <td>0</td>\n",
       "      <td>0</td>\n",
       "      <td>0</td>\n",
       "      <td>0</td>\n",
       "      <td>0</td>\n",
       "      <td>0</td>\n",
       "      <td>0</td>\n",
       "      <td>0</td>\n",
       "      <td>0</td>\n",
       "      <td>0</td>\n",
       "      <td>0</td>\n",
       "      <td>0</td>\n",
       "      <td>0</td>\n",
       "      <td>0</td>\n",
       "      <td>0</td>\n",
       "      <td>0</td>\n",
       "      <td>0</td>\n",
       "      <td>0</td>\n",
       "    </tr>\n",
       "    <tr>\n",
       "      <th>DRAW</th>\n",
       "      <td>0</td>\n",
       "      <td>0</td>\n",
       "      <td>0</td>\n",
       "      <td>0</td>\n",
       "      <td>0</td>\n",
       "      <td>0</td>\n",
       "      <td>0</td>\n",
       "      <td>0</td>\n",
       "      <td>0</td>\n",
       "      <td>0</td>\n",
       "      <td>0</td>\n",
       "      <td>0</td>\n",
       "      <td>0</td>\n",
       "      <td>0</td>\n",
       "      <td>0</td>\n",
       "      <td>0</td>\n",
       "      <td>0</td>\n",
       "      <td>0</td>\n",
       "    </tr>\n",
       "  </tbody>\n",
       "</table>\n",
       "</div>"
      ],
      "text/plain": [
       "           SC Heerenveen  PEC Zwolle  FC Twente '65  FC Emmen  \\\n",
       "HOME_TEAM              0           0              0         0   \n",
       "AWAY_TEAM              0           0              0         0   \n",
       "DRAW                   0           0              0         0   \n",
       "\n",
       "           Heracles Almelo  Sparta Rotterdam  RKC Waalwijk  FC Groningen  \\\n",
       "HOME_TEAM                0                 0             0             0   \n",
       "AWAY_TEAM                0                 0             0             0   \n",
       "DRAW                     0                 0             0             0   \n",
       "\n",
       "           VVV Venlo  AZ  SBV Vitesse  PSV  Fortuna Sittard  ADO Den Haag  \\\n",
       "HOME_TEAM          0   0            0    0                0             0   \n",
       "AWAY_TEAM          0   0            0    0                0             0   \n",
       "DRAW               0   0            0    0                0             0   \n",
       "\n",
       "           Feyenoord Rotterdam  Willem II Tilburg  AFC Ajax  FC Utrecht  \n",
       "HOME_TEAM                    0                  0         0           0  \n",
       "AWAY_TEAM                    0                  0         0           0  \n",
       "DRAW                         0                  0         0           0  "
      ]
     },
     "execution_count": 85,
     "metadata": {},
     "output_type": "execute_result"
    }
   ],
   "source": [
    "df_teams = pd.DataFrame(0, index=df['winner'].unique(), columns=all_teams)\n",
    "df_teams"
   ]
  },
  {
   "cell_type": "code",
   "execution_count": 87,
   "metadata": {},
   "outputs": [],
   "source": [
    "df_teams = test(dff, df_teams)"
   ]
  },
  {
   "cell_type": "code",
   "execution_count": 88,
   "metadata": {},
   "outputs": [
    {
     "data": {
      "text/html": [
       "<div>\n",
       "<style scoped>\n",
       "    .dataframe tbody tr th:only-of-type {\n",
       "        vertical-align: middle;\n",
       "    }\n",
       "\n",
       "    .dataframe tbody tr th {\n",
       "        vertical-align: top;\n",
       "    }\n",
       "\n",
       "    .dataframe thead th {\n",
       "        text-align: right;\n",
       "    }\n",
       "</style>\n",
       "<table border=\"1\" class=\"dataframe\">\n",
       "  <thead>\n",
       "    <tr style=\"text-align: right;\">\n",
       "      <th></th>\n",
       "      <th>SC Heerenveen</th>\n",
       "      <th>PEC Zwolle</th>\n",
       "      <th>FC Twente '65</th>\n",
       "      <th>FC Emmen</th>\n",
       "      <th>Heracles Almelo</th>\n",
       "      <th>Sparta Rotterdam</th>\n",
       "      <th>RKC Waalwijk</th>\n",
       "      <th>FC Groningen</th>\n",
       "      <th>VVV Venlo</th>\n",
       "      <th>AZ</th>\n",
       "      <th>SBV Vitesse</th>\n",
       "      <th>PSV</th>\n",
       "      <th>Fortuna Sittard</th>\n",
       "      <th>ADO Den Haag</th>\n",
       "      <th>Feyenoord Rotterdam</th>\n",
       "      <th>Willem II Tilburg</th>\n",
       "      <th>AFC Ajax</th>\n",
       "      <th>FC Utrecht</th>\n",
       "    </tr>\n",
       "  </thead>\n",
       "  <tbody>\n",
       "    <tr>\n",
       "      <th>HOME_TEAM</th>\n",
       "      <td>6</td>\n",
       "      <td>2</td>\n",
       "      <td>6</td>\n",
       "      <td>0</td>\n",
       "      <td>4</td>\n",
       "      <td>0</td>\n",
       "      <td>0</td>\n",
       "      <td>4</td>\n",
       "      <td>2</td>\n",
       "      <td>2</td>\n",
       "      <td>8</td>\n",
       "      <td>8</td>\n",
       "      <td>0</td>\n",
       "      <td>0</td>\n",
       "      <td>4</td>\n",
       "      <td>2</td>\n",
       "      <td>8</td>\n",
       "      <td>4</td>\n",
       "    </tr>\n",
       "    <tr>\n",
       "      <th>AWAY_TEAM</th>\n",
       "      <td>4</td>\n",
       "      <td>0</td>\n",
       "      <td>4</td>\n",
       "      <td>0</td>\n",
       "      <td>0</td>\n",
       "      <td>2</td>\n",
       "      <td>2</td>\n",
       "      <td>4</td>\n",
       "      <td>2</td>\n",
       "      <td>2</td>\n",
       "      <td>6</td>\n",
       "      <td>4</td>\n",
       "      <td>0</td>\n",
       "      <td>2</td>\n",
       "      <td>6</td>\n",
       "      <td>0</td>\n",
       "      <td>6</td>\n",
       "      <td>0</td>\n",
       "    </tr>\n",
       "    <tr>\n",
       "      <th>DRAW</th>\n",
       "      <td>2</td>\n",
       "      <td>8</td>\n",
       "      <td>4</td>\n",
       "      <td>6</td>\n",
       "      <td>4</td>\n",
       "      <td>6</td>\n",
       "      <td>4</td>\n",
       "      <td>2</td>\n",
       "      <td>4</td>\n",
       "      <td>10</td>\n",
       "      <td>0</td>\n",
       "      <td>2</td>\n",
       "      <td>6</td>\n",
       "      <td>2</td>\n",
       "      <td>6</td>\n",
       "      <td>4</td>\n",
       "      <td>0</td>\n",
       "      <td>6</td>\n",
       "    </tr>\n",
       "  </tbody>\n",
       "</table>\n",
       "</div>"
      ],
      "text/plain": [
       "           SC Heerenveen  PEC Zwolle  FC Twente '65  FC Emmen  \\\n",
       "HOME_TEAM              6           2              6         0   \n",
       "AWAY_TEAM              4           0              4         0   \n",
       "DRAW                   2           8              4         6   \n",
       "\n",
       "           Heracles Almelo  Sparta Rotterdam  RKC Waalwijk  FC Groningen  \\\n",
       "HOME_TEAM                4                 0             0             4   \n",
       "AWAY_TEAM                0                 2             2             4   \n",
       "DRAW                     4                 6             4             2   \n",
       "\n",
       "           VVV Venlo  AZ  SBV Vitesse  PSV  Fortuna Sittard  ADO Den Haag  \\\n",
       "HOME_TEAM          2   2            8    8                0             0   \n",
       "AWAY_TEAM          2   2            6    4                0             2   \n",
       "DRAW               4  10            0    2                6             2   \n",
       "\n",
       "           Feyenoord Rotterdam  Willem II Tilburg  AFC Ajax  FC Utrecht  \n",
       "HOME_TEAM                    4                  2         8           4  \n",
       "AWAY_TEAM                    6                  0         6           0  \n",
       "DRAW                         6                  4         0           6  "
      ]
     },
     "execution_count": 88,
     "metadata": {},
     "output_type": "execute_result"
    }
   ],
   "source": [
    "df_teams"
   ]
  },
  {
   "cell_type": "code",
   "execution_count": 84,
   "metadata": {},
   "outputs": [],
   "source": [
    "dff = df[['winner', 'homeTeamName', 'awayTeamName']]"
   ]
  },
  {
   "cell_type": "code",
   "execution_count": 92,
   "metadata": {},
   "outputs": [
    {
     "data": {
      "text/plain": [
       "[{'label': 'Linear', 'value': 'Linear'}, {'label': 'Log', 'value': 'Log'}]"
      ]
     },
     "execution_count": 92,
     "metadata": {},
     "output_type": "execute_result"
    }
   ],
   "source": [
    "[{'label': i, 'value': i} for i in ['Linear', 'Log']]"
   ]
  },
  {
   "cell_type": "markdown",
   "metadata": {},
   "source": [
    "## Filtering big dataset"
   ]
  },
  {
   "cell_type": "code",
   "execution_count": 20,
   "metadata": {},
   "outputs": [],
   "source": [
    "df = pd.read_pickle('data/all_data.pickle')"
   ]
  },
  {
   "cell_type": "code",
   "execution_count": 24,
   "metadata": {},
   "outputs": [
    {
     "data": {
      "text/html": [
       "<div>\n",
       "<style scoped>\n",
       "    .dataframe tbody tr th:only-of-type {\n",
       "        vertical-align: middle;\n",
       "    }\n",
       "\n",
       "    .dataframe tbody tr th {\n",
       "        vertical-align: top;\n",
       "    }\n",
       "\n",
       "    .dataframe thead th {\n",
       "        text-align: right;\n",
       "    }\n",
       "</style>\n",
       "<table border=\"1\" class=\"dataframe\">\n",
       "  <thead>\n",
       "    <tr style=\"text-align: right;\">\n",
       "      <th></th>\n",
       "      <th>awayTeam</th>\n",
       "      <th>group</th>\n",
       "      <th>homeTeam</th>\n",
       "      <th>lastUpdated</th>\n",
       "      <th>matchday</th>\n",
       "      <th>referees</th>\n",
       "      <th>score</th>\n",
       "      <th>season</th>\n",
       "      <th>stage</th>\n",
       "      <th>status</th>\n",
       "      <th>utcDate</th>\n",
       "      <th>winner</th>\n",
       "      <th>homeTeamName</th>\n",
       "      <th>awayTeamName</th>\n",
       "      <th>corona</th>\n",
       "      <th>competition</th>\n",
       "    </tr>\n",
       "    <tr>\n",
       "      <th>id</th>\n",
       "      <th></th>\n",
       "      <th></th>\n",
       "      <th></th>\n",
       "      <th></th>\n",
       "      <th></th>\n",
       "      <th></th>\n",
       "      <th></th>\n",
       "      <th></th>\n",
       "      <th></th>\n",
       "      <th></th>\n",
       "      <th></th>\n",
       "      <th></th>\n",
       "      <th></th>\n",
       "      <th></th>\n",
       "      <th></th>\n",
       "      <th></th>\n",
       "    </tr>\n",
       "  </thead>\n",
       "  <tbody>\n",
       "    <tr>\n",
       "      <th>235183</th>\n",
       "      <td>{'id': 673, 'name': 'SC Heerenveen'}</td>\n",
       "      <td>Regular Season</td>\n",
       "      <td>{'id': 684, 'name': 'PEC Zwolle'}</td>\n",
       "      <td>2019-04-13T17:30:48Z</td>\n",
       "      <td>1</td>\n",
       "      <td>[{'id': 43861, 'name': 'Dennis Higler', 'natio...</td>\n",
       "      <td>{'winner': 'AWAY_TEAM', 'duration': 'REGULAR',...</td>\n",
       "      <td>2018</td>\n",
       "      <td>REGULAR_SEASON</td>\n",
       "      <td>FINISHED</td>\n",
       "      <td>2018-08-10 18:00:00</td>\n",
       "      <td>AWAY_TEAM</td>\n",
       "      <td>PEC Zwolle</td>\n",
       "      <td>SC Heerenveen</td>\n",
       "      <td>pre</td>\n",
       "      <td>DED</td>\n",
       "    </tr>\n",
       "    <tr>\n",
       "      <th>235184</th>\n",
       "      <td>{'id': 671, 'name': 'Heracles Almelo'}</td>\n",
       "      <td>Regular Season</td>\n",
       "      <td>{'id': 678, 'name': 'AFC Ajax'}</td>\n",
       "      <td>2019-04-13T17:30:48Z</td>\n",
       "      <td>1</td>\n",
       "      <td>[{'id': 43858, 'name': 'Serdar Gözübüyük', 'na...</td>\n",
       "      <td>{'winner': 'DRAW', 'duration': 'REGULAR', 'ful...</td>\n",
       "      <td>2018</td>\n",
       "      <td>REGULAR_SEASON</td>\n",
       "      <td>FINISHED</td>\n",
       "      <td>2018-08-11 16:30:00</td>\n",
       "      <td>DRAW</td>\n",
       "      <td>AFC Ajax</td>\n",
       "      <td>Heracles Almelo</td>\n",
       "      <td>pre</td>\n",
       "      <td>DED</td>\n",
       "    </tr>\n",
       "    <tr>\n",
       "      <th>235185</th>\n",
       "      <td>{'id': 668, 'name': 'VVV Venlo'}</td>\n",
       "      <td>Regular Season</td>\n",
       "      <td>{'id': 672, 'name': 'Willem II Tilburg'}</td>\n",
       "      <td>2019-04-13T17:30:48Z</td>\n",
       "      <td>1</td>\n",
       "      <td>[{'id': 17141, 'name': 'Rob Dieperink', 'natio...</td>\n",
       "      <td>{'winner': 'AWAY_TEAM', 'duration': 'REGULAR',...</td>\n",
       "      <td>2018</td>\n",
       "      <td>REGULAR_SEASON</td>\n",
       "      <td>FINISHED</td>\n",
       "      <td>2018-08-11 16:30:00</td>\n",
       "      <td>AWAY_TEAM</td>\n",
       "      <td>Willem II Tilburg</td>\n",
       "      <td>VVV Venlo</td>\n",
       "      <td>pre</td>\n",
       "      <td>DED</td>\n",
       "    </tr>\n",
       "    <tr>\n",
       "      <th>235186</th>\n",
       "      <td>{'id': 676, 'name': 'FC Utrecht'}</td>\n",
       "      <td>Regular Season</td>\n",
       "      <td>{'id': 674, 'name': 'PSV'}</td>\n",
       "      <td>2019-04-13T17:30:48Z</td>\n",
       "      <td>1</td>\n",
       "      <td>[{'id': 56905, 'name': 'Bas Nijhuis', 'nationa...</td>\n",
       "      <td>{'winner': 'HOME_TEAM', 'duration': 'REGULAR',...</td>\n",
       "      <td>2018</td>\n",
       "      <td>REGULAR_SEASON</td>\n",
       "      <td>FINISHED</td>\n",
       "      <td>2018-08-11 18:45:00</td>\n",
       "      <td>HOME_TEAM</td>\n",
       "      <td>PSV</td>\n",
       "      <td>FC Utrecht</td>\n",
       "      <td>pre</td>\n",
       "      <td>DED</td>\n",
       "    </tr>\n",
       "    <tr>\n",
       "      <th>235187</th>\n",
       "      <td>{'id': 1920, 'name': 'Fortuna Sittard'}</td>\n",
       "      <td>Regular Season</td>\n",
       "      <td>{'id': 670, 'name': 'SBV Excelsior'}</td>\n",
       "      <td>2019-04-13T17:30:48Z</td>\n",
       "      <td>1</td>\n",
       "      <td>[{'id': 56902, 'name': 'Siemen Mulder', 'natio...</td>\n",
       "      <td>{'winner': 'DRAW', 'duration': 'REGULAR', 'ful...</td>\n",
       "      <td>2018</td>\n",
       "      <td>REGULAR_SEASON</td>\n",
       "      <td>FINISHED</td>\n",
       "      <td>2018-08-11 18:45:00</td>\n",
       "      <td>DRAW</td>\n",
       "      <td>SBV Excelsior</td>\n",
       "      <td>Fortuna Sittard</td>\n",
       "      <td>pre</td>\n",
       "      <td>DED</td>\n",
       "    </tr>\n",
       "    <tr>\n",
       "      <th>...</th>\n",
       "      <td>...</td>\n",
       "      <td>...</td>\n",
       "      <td>...</td>\n",
       "      <td>...</td>\n",
       "      <td>...</td>\n",
       "      <td>...</td>\n",
       "      <td>...</td>\n",
       "      <td>...</td>\n",
       "      <td>...</td>\n",
       "      <td>...</td>\n",
       "      <td>...</td>\n",
       "      <td>...</td>\n",
       "      <td>...</td>\n",
       "      <td>...</td>\n",
       "      <td>...</td>\n",
       "      <td>...</td>\n",
       "    </tr>\n",
       "    <tr>\n",
       "      <th>265017</th>\n",
       "      <td>{'id': 678, 'name': 'AFC Ajax'}</td>\n",
       "      <td>Regular Season</td>\n",
       "      <td>{'id': 673, 'name': 'SC Heerenveen'}</td>\n",
       "      <td>2020-03-08T07:25:20Z</td>\n",
       "      <td>26</td>\n",
       "      <td>[{'id': 56912, 'name': 'Jeroen Manschot', 'nat...</td>\n",
       "      <td>{'winner': 'AWAY_TEAM', 'duration': 'REGULAR',...</td>\n",
       "      <td>2019</td>\n",
       "      <td>REGULAR_SEASON</td>\n",
       "      <td>FINISHED</td>\n",
       "      <td>2020-03-07 19:45:00</td>\n",
       "      <td>AWAY_TEAM</td>\n",
       "      <td>SC Heerenveen</td>\n",
       "      <td>AFC Ajax</td>\n",
       "      <td>pre</td>\n",
       "      <td>DED</td>\n",
       "    </tr>\n",
       "    <tr>\n",
       "      <th>265019</th>\n",
       "      <td>{'id': 6806, 'name': 'Sparta Rotterdam'}</td>\n",
       "      <td>Regular Season</td>\n",
       "      <td>{'id': 676, 'name': 'FC Utrecht'}</td>\n",
       "      <td>2020-03-08T23:59:23Z</td>\n",
       "      <td>26</td>\n",
       "      <td>[{'id': 9561, 'name': 'Allard Lindhout', 'nati...</td>\n",
       "      <td>{'winner': 'HOME_TEAM', 'duration': 'REGULAR',...</td>\n",
       "      <td>2019</td>\n",
       "      <td>REGULAR_SEASON</td>\n",
       "      <td>FINISHED</td>\n",
       "      <td>2020-03-08 11:15:00</td>\n",
       "      <td>HOME_TEAM</td>\n",
       "      <td>FC Utrecht</td>\n",
       "      <td>Sparta Rotterdam</td>\n",
       "      <td>pre</td>\n",
       "      <td>DED</td>\n",
       "    </tr>\n",
       "    <tr>\n",
       "      <th>265020</th>\n",
       "      <td>{'id': 672, 'name': 'Willem II Tilburg'}</td>\n",
       "      <td>Regular Season</td>\n",
       "      <td>{'id': 675, 'name': 'Feyenoord Rotterdam'}</td>\n",
       "      <td>2020-03-08T23:59:23Z</td>\n",
       "      <td>26</td>\n",
       "      <td>[{'id': 15152, 'name': 'Pol van Boekel', 'nati...</td>\n",
       "      <td>{'winner': 'HOME_TEAM', 'duration': 'REGULAR',...</td>\n",
       "      <td>2019</td>\n",
       "      <td>REGULAR_SEASON</td>\n",
       "      <td>FINISHED</td>\n",
       "      <td>2020-03-08 13:30:00</td>\n",
       "      <td>HOME_TEAM</td>\n",
       "      <td>Feyenoord Rotterdam</td>\n",
       "      <td>Willem II Tilburg</td>\n",
       "      <td>pre</td>\n",
       "      <td>DED</td>\n",
       "    </tr>\n",
       "    <tr>\n",
       "      <th>265021</th>\n",
       "      <td>{'id': 683, 'name': 'RKC Waalwijk'}</td>\n",
       "      <td>Regular Season</td>\n",
       "      <td>{'id': 671, 'name': 'Heracles Almelo'}</td>\n",
       "      <td>2020-03-08T23:59:23Z</td>\n",
       "      <td>26</td>\n",
       "      <td>[{'id': 56904, 'name': 'Edwin van de Graaf', '...</td>\n",
       "      <td>{'winner': 'HOME_TEAM', 'duration': 'REGULAR',...</td>\n",
       "      <td>2019</td>\n",
       "      <td>REGULAR_SEASON</td>\n",
       "      <td>FINISHED</td>\n",
       "      <td>2020-03-08 13:30:00</td>\n",
       "      <td>HOME_TEAM</td>\n",
       "      <td>Heracles Almelo</td>\n",
       "      <td>RKC Waalwijk</td>\n",
       "      <td>pre</td>\n",
       "      <td>DED</td>\n",
       "    </tr>\n",
       "    <tr>\n",
       "      <th>265022</th>\n",
       "      <td>{'id': 674, 'name': 'PSV'}</td>\n",
       "      <td>Regular Season</td>\n",
       "      <td>{'id': 677, 'name': 'FC Groningen'}</td>\n",
       "      <td>2020-03-08T23:59:24Z</td>\n",
       "      <td>26</td>\n",
       "      <td>[{'id': 43858, 'name': 'Serdar Gözübüyük', 'na...</td>\n",
       "      <td>{'winner': 'AWAY_TEAM', 'duration': 'REGULAR',...</td>\n",
       "      <td>2019</td>\n",
       "      <td>REGULAR_SEASON</td>\n",
       "      <td>FINISHED</td>\n",
       "      <td>2020-03-08 15:45:00</td>\n",
       "      <td>AWAY_TEAM</td>\n",
       "      <td>FC Groningen</td>\n",
       "      <td>PSV</td>\n",
       "      <td>pre</td>\n",
       "      <td>DED</td>\n",
       "    </tr>\n",
       "  </tbody>\n",
       "</table>\n",
       "<p>544 rows × 16 columns</p>\n",
       "</div>"
      ],
      "text/plain": [
       "                                        awayTeam           group  \\\n",
       "id                                                                 \n",
       "235183      {'id': 673, 'name': 'SC Heerenveen'}  Regular Season   \n",
       "235184    {'id': 671, 'name': 'Heracles Almelo'}  Regular Season   \n",
       "235185          {'id': 668, 'name': 'VVV Venlo'}  Regular Season   \n",
       "235186         {'id': 676, 'name': 'FC Utrecht'}  Regular Season   \n",
       "235187   {'id': 1920, 'name': 'Fortuna Sittard'}  Regular Season   \n",
       "...                                          ...             ...   \n",
       "265017           {'id': 678, 'name': 'AFC Ajax'}  Regular Season   \n",
       "265019  {'id': 6806, 'name': 'Sparta Rotterdam'}  Regular Season   \n",
       "265020  {'id': 672, 'name': 'Willem II Tilburg'}  Regular Season   \n",
       "265021       {'id': 683, 'name': 'RKC Waalwijk'}  Regular Season   \n",
       "265022                {'id': 674, 'name': 'PSV'}  Regular Season   \n",
       "\n",
       "                                          homeTeam           lastUpdated  \\\n",
       "id                                                                         \n",
       "235183           {'id': 684, 'name': 'PEC Zwolle'}  2019-04-13T17:30:48Z   \n",
       "235184             {'id': 678, 'name': 'AFC Ajax'}  2019-04-13T17:30:48Z   \n",
       "235185    {'id': 672, 'name': 'Willem II Tilburg'}  2019-04-13T17:30:48Z   \n",
       "235186                  {'id': 674, 'name': 'PSV'}  2019-04-13T17:30:48Z   \n",
       "235187        {'id': 670, 'name': 'SBV Excelsior'}  2019-04-13T17:30:48Z   \n",
       "...                                            ...                   ...   \n",
       "265017        {'id': 673, 'name': 'SC Heerenveen'}  2020-03-08T07:25:20Z   \n",
       "265019           {'id': 676, 'name': 'FC Utrecht'}  2020-03-08T23:59:23Z   \n",
       "265020  {'id': 675, 'name': 'Feyenoord Rotterdam'}  2020-03-08T23:59:23Z   \n",
       "265021      {'id': 671, 'name': 'Heracles Almelo'}  2020-03-08T23:59:23Z   \n",
       "265022         {'id': 677, 'name': 'FC Groningen'}  2020-03-08T23:59:24Z   \n",
       "\n",
       "       matchday                                           referees  \\\n",
       "id                                                                   \n",
       "235183        1  [{'id': 43861, 'name': 'Dennis Higler', 'natio...   \n",
       "235184        1  [{'id': 43858, 'name': 'Serdar Gözübüyük', 'na...   \n",
       "235185        1  [{'id': 17141, 'name': 'Rob Dieperink', 'natio...   \n",
       "235186        1  [{'id': 56905, 'name': 'Bas Nijhuis', 'nationa...   \n",
       "235187        1  [{'id': 56902, 'name': 'Siemen Mulder', 'natio...   \n",
       "...         ...                                                ...   \n",
       "265017       26  [{'id': 56912, 'name': 'Jeroen Manschot', 'nat...   \n",
       "265019       26  [{'id': 9561, 'name': 'Allard Lindhout', 'nati...   \n",
       "265020       26  [{'id': 15152, 'name': 'Pol van Boekel', 'nati...   \n",
       "265021       26  [{'id': 56904, 'name': 'Edwin van de Graaf', '...   \n",
       "265022       26  [{'id': 43858, 'name': 'Serdar Gözübüyük', 'na...   \n",
       "\n",
       "                                                    score  season  \\\n",
       "id                                                                  \n",
       "235183  {'winner': 'AWAY_TEAM', 'duration': 'REGULAR',...    2018   \n",
       "235184  {'winner': 'DRAW', 'duration': 'REGULAR', 'ful...    2018   \n",
       "235185  {'winner': 'AWAY_TEAM', 'duration': 'REGULAR',...    2018   \n",
       "235186  {'winner': 'HOME_TEAM', 'duration': 'REGULAR',...    2018   \n",
       "235187  {'winner': 'DRAW', 'duration': 'REGULAR', 'ful...    2018   \n",
       "...                                                   ...     ...   \n",
       "265017  {'winner': 'AWAY_TEAM', 'duration': 'REGULAR',...    2019   \n",
       "265019  {'winner': 'HOME_TEAM', 'duration': 'REGULAR',...    2019   \n",
       "265020  {'winner': 'HOME_TEAM', 'duration': 'REGULAR',...    2019   \n",
       "265021  {'winner': 'HOME_TEAM', 'duration': 'REGULAR',...    2019   \n",
       "265022  {'winner': 'AWAY_TEAM', 'duration': 'REGULAR',...    2019   \n",
       "\n",
       "                 stage    status             utcDate     winner  \\\n",
       "id                                                                \n",
       "235183  REGULAR_SEASON  FINISHED 2018-08-10 18:00:00  AWAY_TEAM   \n",
       "235184  REGULAR_SEASON  FINISHED 2018-08-11 16:30:00       DRAW   \n",
       "235185  REGULAR_SEASON  FINISHED 2018-08-11 16:30:00  AWAY_TEAM   \n",
       "235186  REGULAR_SEASON  FINISHED 2018-08-11 18:45:00  HOME_TEAM   \n",
       "235187  REGULAR_SEASON  FINISHED 2018-08-11 18:45:00       DRAW   \n",
       "...                ...       ...                 ...        ...   \n",
       "265017  REGULAR_SEASON  FINISHED 2020-03-07 19:45:00  AWAY_TEAM   \n",
       "265019  REGULAR_SEASON  FINISHED 2020-03-08 11:15:00  HOME_TEAM   \n",
       "265020  REGULAR_SEASON  FINISHED 2020-03-08 13:30:00  HOME_TEAM   \n",
       "265021  REGULAR_SEASON  FINISHED 2020-03-08 13:30:00  HOME_TEAM   \n",
       "265022  REGULAR_SEASON  FINISHED 2020-03-08 15:45:00  AWAY_TEAM   \n",
       "\n",
       "               homeTeamName       awayTeamName corona competition  \n",
       "id                                                                 \n",
       "235183           PEC Zwolle      SC Heerenveen    pre         DED  \n",
       "235184             AFC Ajax    Heracles Almelo    pre         DED  \n",
       "235185    Willem II Tilburg          VVV Venlo    pre         DED  \n",
       "235186                  PSV         FC Utrecht    pre         DED  \n",
       "235187        SBV Excelsior    Fortuna Sittard    pre         DED  \n",
       "...                     ...                ...    ...         ...  \n",
       "265017        SC Heerenveen           AFC Ajax    pre         DED  \n",
       "265019           FC Utrecht   Sparta Rotterdam    pre         DED  \n",
       "265020  Feyenoord Rotterdam  Willem II Tilburg    pre         DED  \n",
       "265021      Heracles Almelo       RKC Waalwijk    pre         DED  \n",
       "265022         FC Groningen                PSV    pre         DED  \n",
       "\n",
       "[544 rows x 16 columns]"
      ]
     },
     "execution_count": 24,
     "metadata": {},
     "output_type": "execute_result"
    }
   ],
   "source": [
    "df[(df['corona'] == 'pre') & (df['competition'] == 'DED')]"
   ]
  },
  {
   "cell_type": "markdown",
   "metadata": {},
   "source": [
    "### Checking colors/marker color etc"
   ]
  },
  {
   "cell_type": "code",
   "execution_count": 34,
   "metadata": {},
   "outputs": [],
   "source": [
    "d = {\n",
    "    'ABC':'red',\n",
    "    'DEF':'green',\n",
    "    'GHI':'black'\n",
    "}"
   ]
  },
  {
   "cell_type": "code",
   "execution_count": 39,
   "metadata": {},
   "outputs": [],
   "source": [
    "a = np.array(['ABC', 'DEF', 'GHI'])"
   ]
  },
  {
   "cell_type": "code",
   "execution_count": 40,
   "metadata": {},
   "outputs": [],
   "source": [
    "colors = [d[k] for k in a]"
   ]
  },
  {
   "cell_type": "code",
   "execution_count": 42,
   "metadata": {},
   "outputs": [
    {
     "data": {
      "text/plain": [
       "['red', 'green', 'black']"
      ]
     },
     "execution_count": 42,
     "metadata": {},
     "output_type": "execute_result"
    }
   ],
   "source": [
    "colors"
   ]
  },
  {
   "cell_type": "markdown",
   "metadata": {},
   "source": [
    "## New type of graph - Running average of points per game"
   ]
  },
  {
   "cell_type": "code",
   "execution_count": 147,
   "metadata": {},
   "outputs": [],
   "source": [
    "df = pd.read_pickle('data/all_data.pickle').dropna(subset=['matchday'])\n",
    "df = df.sort_values(by='utcDate')\n",
    "df['matchday'] = df['matchday'].astype(int)"
   ]
  },
  {
   "cell_type": "code",
   "execution_count": 148,
   "metadata": {},
   "outputs": [],
   "source": [
    "df['yearMatchday'] = df['year'].astype(str)+'_'+df['matchday'].astype(str)"
   ]
  },
  {
   "cell_type": "code",
   "execution_count": 171,
   "metadata": {},
   "outputs": [],
   "source": [
    "df_pre = df[df['corona'] == 'pre']\n",
    "df_post = df[df['corona'] == 'post']\n",
    "dff_pre = df_pre[['yearMatchday', 'winner']]\n",
    "dff_post = df_post[['yearMatchday', 'winner']]"
   ]
  },
  {
   "cell_type": "code",
   "execution_count": 190,
   "metadata": {},
   "outputs": [],
   "source": [
    "points_df_pre = pd.DataFrame(0, index=dff_pre['yearMatchday'].unique(), columns=['homeTeamPoints', 'awayTeamPoints', 'numberOfMatches'])\n",
    "points_df_post = pd.DataFrame(0, index=dff_post['yearMatchday'].unique(), columns=['homeTeamPoints', 'awayTeamPoints', 'numberOfMatches'])"
   ]
  },
  {
   "cell_type": "code",
   "execution_count": 191,
   "metadata": {},
   "outputs": [],
   "source": [
    "def fill_points_df(dff, points_df):\n",
    "    for index, row in dff.iterrows():\n",
    "        points_df['numberOfMatches'][row[0]] += 1\n",
    "        if row[1] == 'HOME_TEAM':\n",
    "            points_df['homeTeamPoints'][row[0]] += 3\n",
    "        elif row[1] == 'AWAY_TEAM':\n",
    "            points_df['awayTeamPoints'][row[0]] += 3\n",
    "    \n",
    "    points_df['homeAvgPoints'] = points_df['homeTeamPoints']/points_df['numberOfMatches']\n",
    "    points_df['awayAvgPoints'] = points_df['awayTeamPoints']/points_df['numberOfMatches']\n",
    "    \n",
    "    return points_df"
   ]
  },
  {
   "cell_type": "code",
   "execution_count": 192,
   "metadata": {},
   "outputs": [],
   "source": [
    "points_df_pre = fill_points_df(dff_pre, points_df_pre)\n",
    "points_df_post = fill_points_df(dff_post, points_df_post)"
   ]
  },
  {
   "cell_type": "code",
   "execution_count": 8,
   "metadata": {},
   "outputs": [],
   "source": [
    "# Checking what's wrong with Bundesliga (and maybe other leagues)\n",
    "league = 'BL1'\n",
    "df = pd.read_pickle('data/all_data.pickle').dropna(subset=['matchday'])\n",
    "df = df.sort_values(by='utcDate')\n",
    "df['matchday'] = df['matchday'].astype(int)\n",
    "df['yearMatchday'] = df['year'].astype(str)+'_'+df['matchday'].astype(str)"
   ]
  },
  {
   "cell_type": "code",
   "execution_count": 9,
   "metadata": {},
   "outputs": [],
   "source": [
    "df_pre = df[(df['corona'] == 'pre') & (df['league'] == league)]\n",
    "df_post = df[(df['corona'] == 'post') & (df['league'] == league)]"
   ]
  },
  {
   "cell_type": "code",
   "execution_count": 10,
   "metadata": {},
   "outputs": [],
   "source": [
    "dff_pre = df_pre[['yearMatchday', 'winner']]\n",
    "dff_post = df_post[['yearMatchday', 'winner']]"
   ]
  },
  {
   "cell_type": "code",
   "execution_count": 15,
   "metadata": {},
   "outputs": [
    {
     "data": {
      "text/plain": [
       "array(['2018_1', '2018_2', '2018_3', '2018_4', '2018_5', '2018_6',\n",
       "       '2018_7', '2018_8', '2018_9', '2018_10', '2018_11', '2018_12',\n",
       "       '2018_13', '2018_14', '2018_15', '2018_16', '2018_17', '2018_18',\n",
       "       '2018_19', '2018_20', '2018_21', '2018_22', '2018_23', '2018_24',\n",
       "       '2018_25', '2018_26', '2018_27', '2018_28', '2018_29', '2018_30',\n",
       "       '2018_31', '2018_32', '2018_33', '2018_34', '2019_1', '2019_2',\n",
       "       '2019_3', '2019_4', '2019_5', '2019_6', '2019_7', '2019_8',\n",
       "       '2019_9', '2019_10', '2019_11', '2019_12', '2019_13', '2019_14',\n",
       "       '2019_15', '2019_16', '2019_17', '2019_18', '2019_19', '2019_20',\n",
       "       '2019_21', '2019_22', '2019_23', '2019_24', '2019_25'],\n",
       "      dtype=object)"
      ]
     },
     "execution_count": 15,
     "metadata": {},
     "output_type": "execute_result"
    }
   ],
   "source": [
    "dff_pre['yearMatchday'].unique()"
   ]
  },
  {
   "cell_type": "code",
   "execution_count": 16,
   "metadata": {},
   "outputs": [
    {
     "data": {
      "text/plain": [
       "array(['2019_25', '2019_21', '2019_26', '2019_27', '2019_28', '2019_29',\n",
       "       '2019_24', '2019_30', '2019_31', '2019_32', '2019_33', '2019_34',\n",
       "       '2020_1', '2020_2', '2020_3', '2020_4', '2020_5', '2020_6',\n",
       "       '2020_7', '2020_8'], dtype=object)"
      ]
     },
     "execution_count": 16,
     "metadata": {},
     "output_type": "execute_result"
    }
   ],
   "source": [
    "dff_post['yearMatchday'].unique()"
   ]
  },
  {
   "cell_type": "code",
   "execution_count": null,
   "outputs": [],
   "source": [
    "dff_post"
   ],
   "metadata": {
    "collapsed": false,
    "pycharm": {
     "name": "#%%\n"
    }
   }
  },
  {
   "cell_type": "code",
   "execution_count": 18,
   "metadata": {},
   "outputs": [
    {
     "data": {
      "text/html": [
       "<div>\n",
       "<style scoped>\n",
       "    .dataframe tbody tr th:only-of-type {\n",
       "        vertical-align: middle;\n",
       "    }\n",
       "\n",
       "    .dataframe tbody tr th {\n",
       "        vertical-align: top;\n",
       "    }\n",
       "\n",
       "    .dataframe thead th {\n",
       "        text-align: right;\n",
       "    }\n",
       "</style>\n",
       "<table border=\"1\" class=\"dataframe\">\n",
       "  <thead>\n",
       "    <tr style=\"text-align: right;\">\n",
       "      <th></th>\n",
       "      <th>yearMatchday</th>\n",
       "      <th>winner</th>\n",
       "    </tr>\n",
       "    <tr>\n",
       "      <th>id</th>\n",
       "      <th></th>\n",
       "      <th></th>\n",
       "    </tr>\n",
       "  </thead>\n",
       "  <tbody>\n",
       "    <tr>\n",
       "      <th>271631</th>\n",
       "      <td>2019_25</td>\n",
       "      <td>HOME_TEAM</td>\n",
       "    </tr>\n",
       "    <tr>\n",
       "      <th>271635</th>\n",
       "      <td>2019_25</td>\n",
       "      <td>DRAW</td>\n",
       "    </tr>\n",
       "    <tr>\n",
       "      <th>271596</th>\n",
       "      <td>2019_21</td>\n",
       "      <td>HOME_TEAM</td>\n",
       "    </tr>\n",
       "    <tr>\n",
       "      <th>271645</th>\n",
       "      <td>2019_26</td>\n",
       "      <td>DRAW</td>\n",
       "    </tr>\n",
       "    <tr>\n",
       "      <th>271643</th>\n",
       "      <td>2019_26</td>\n",
       "      <td>AWAY_TEAM</td>\n",
       "    </tr>\n",
       "    <tr>\n",
       "      <th>...</th>\n",
       "      <td>...</td>\n",
       "      <td>...</td>\n",
       "    </tr>\n",
       "    <tr>\n",
       "      <th>303067</th>\n",
       "      <td>2020_8</td>\n",
       "      <td>AWAY_TEAM</td>\n",
       "    </tr>\n",
       "    <tr>\n",
       "      <th>303066</th>\n",
       "      <td>2020_8</td>\n",
       "      <td>DRAW</td>\n",
       "    </tr>\n",
       "    <tr>\n",
       "      <th>303068</th>\n",
       "      <td>2020_8</td>\n",
       "      <td>AWAY_TEAM</td>\n",
       "    </tr>\n",
       "    <tr>\n",
       "      <th>303072</th>\n",
       "      <td>2020_8</td>\n",
       "      <td>AWAY_TEAM</td>\n",
       "    </tr>\n",
       "    <tr>\n",
       "      <th>303065</th>\n",
       "      <td>2020_8</td>\n",
       "      <td>AWAY_TEAM</td>\n",
       "    </tr>\n",
       "  </tbody>\n",
       "</table>\n",
       "<p>157 rows × 2 columns</p>\n",
       "</div>"
      ],
      "text/plain": [
       "       yearMatchday     winner\n",
       "id                            \n",
       "271631      2019_25  HOME_TEAM\n",
       "271635      2019_25       DRAW\n",
       "271596      2019_21  HOME_TEAM\n",
       "271645      2019_26       DRAW\n",
       "271643      2019_26  AWAY_TEAM\n",
       "...             ...        ...\n",
       "303067       2020_8  AWAY_TEAM\n",
       "303066       2020_8       DRAW\n",
       "303068       2020_8  AWAY_TEAM\n",
       "303072       2020_8  AWAY_TEAM\n",
       "303065       2020_8  AWAY_TEAM\n",
       "\n",
       "[157 rows x 2 columns]"
      ]
     },
     "execution_count": 18,
     "metadata": {},
     "output_type": "execute_result"
    }
   ],
   "source": [
    "dff_post[~dff_post['yearMatchday'].isin(dff_pre['yearMatchday'].unique())]"
   ]
  },
  {
   "cell_type": "code",
   "execution_count": 17,
   "metadata": {},
   "outputs": [
    {
     "data": {
      "text/html": [
       "<div>\n",
       "<style scoped>\n",
       "    .dataframe tbody tr th:only-of-type {\n",
       "        vertical-align: middle;\n",
       "    }\n",
       "\n",
       "    .dataframe tbody tr th {\n",
       "        vertical-align: top;\n",
       "    }\n",
       "\n",
       "    .dataframe thead th {\n",
       "        text-align: right;\n",
       "    }\n",
       "</style>\n",
       "<table border=\"1\" class=\"dataframe\">\n",
       "  <thead>\n",
       "    <tr style=\"text-align: right;\">\n",
       "      <th></th>\n",
       "      <th>yearMatchday</th>\n",
       "      <th>winner</th>\n",
       "    </tr>\n",
       "    <tr>\n",
       "      <th>id</th>\n",
       "      <th></th>\n",
       "      <th></th>\n",
       "    </tr>\n",
       "  </thead>\n",
       "  <tbody>\n",
       "    <tr>\n",
       "      <th>271645</th>\n",
       "      <td>2019_26</td>\n",
       "      <td>DRAW</td>\n",
       "    </tr>\n",
       "    <tr>\n",
       "      <th>271643</th>\n",
       "      <td>2019_26</td>\n",
       "      <td>AWAY_TEAM</td>\n",
       "    </tr>\n",
       "    <tr>\n",
       "      <th>271642</th>\n",
       "      <td>2019_26</td>\n",
       "      <td>AWAY_TEAM</td>\n",
       "    </tr>\n",
       "    <tr>\n",
       "      <th>271641</th>\n",
       "      <td>2019_26</td>\n",
       "      <td>DRAW</td>\n",
       "    </tr>\n",
       "    <tr>\n",
       "      <th>271639</th>\n",
       "      <td>2019_26</td>\n",
       "      <td>HOME_TEAM</td>\n",
       "    </tr>\n",
       "    <tr>\n",
       "      <th>...</th>\n",
       "      <td>...</td>\n",
       "      <td>...</td>\n",
       "    </tr>\n",
       "    <tr>\n",
       "      <th>303067</th>\n",
       "      <td>2020_8</td>\n",
       "      <td>AWAY_TEAM</td>\n",
       "    </tr>\n",
       "    <tr>\n",
       "      <th>303066</th>\n",
       "      <td>2020_8</td>\n",
       "      <td>DRAW</td>\n",
       "    </tr>\n",
       "    <tr>\n",
       "      <th>303068</th>\n",
       "      <td>2020_8</td>\n",
       "      <td>AWAY_TEAM</td>\n",
       "    </tr>\n",
       "    <tr>\n",
       "      <th>303072</th>\n",
       "      <td>2020_8</td>\n",
       "      <td>AWAY_TEAM</td>\n",
       "    </tr>\n",
       "    <tr>\n",
       "      <th>303065</th>\n",
       "      <td>2020_8</td>\n",
       "      <td>AWAY_TEAM</td>\n",
       "    </tr>\n",
       "  </tbody>\n",
       "</table>\n",
       "<p>153 rows × 2 columns</p>\n",
       "</div>"
      ],
      "text/plain": [
       "       yearMatchday     winner\n",
       "id                            \n",
       "271645      2019_26       DRAW\n",
       "271643      2019_26  AWAY_TEAM\n",
       "271642      2019_26  AWAY_TEAM\n",
       "271641      2019_26       DRAW\n",
       "271639      2019_26  HOME_TEAM\n",
       "...             ...        ...\n",
       "303067       2020_8  AWAY_TEAM\n",
       "303066       2020_8       DRAW\n",
       "303068       2020_8  AWAY_TEAM\n",
       "303072       2020_8  AWAY_TEAM\n",
       "303065       2020_8  AWAY_TEAM\n",
       "\n",
       "[153 rows x 2 columns]"
      ]
     },
     "execution_count": 17,
     "metadata": {},
     "output_type": "execute_result"
    }
   ],
   "source": [
    "dff_post[~dff_post['yearMatchday'].isin(dff_pre['yearMatchday'].unique())]"
   ]
  },
  {
   "cell_type": "code",
   "execution_count": null,
   "metadata": {},
   "outputs": [],
   "source": []
  }
 ],
 "metadata": {
  "kernelspec": {
   "display_name": "Python 3",
   "language": "python",
   "name": "python3"
  },
  "language_info": {
   "codemirror_mode": {
    "name": "ipython",
    "version": 3
   },
   "file_extension": ".py",
   "mimetype": "text/x-python",
   "name": "python",
   "nbconvert_exporter": "python",
   "pygments_lexer": "ipython3",
   "version": "3.8.5"
  }
 },
 "nbformat": 4,
 "nbformat_minor": 4
}