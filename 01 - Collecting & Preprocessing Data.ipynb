{
 "cells": [
  {
   "cell_type": "code",
   "execution_count": 36,
   "metadata": {},
   "outputs": [],
   "source": [
    "import http.client\n",
    "import json\n",
    "import os\n",
    "import pandas as pd\n",
    "import time"
   ]
  },
  {
   "cell_type": "code",
   "execution_count": 37,
   "metadata": {},
   "outputs": [],
   "source": [
    "API_SOCCER = os.environ.get(\"API_SOCCER\")"
   ]
  },
  {
   "cell_type": "markdown",
   "metadata": {},
   "source": [
    "# Collecting Data"
   ]
  },
  {
   "cell_type": "code",
   "execution_count": 38,
   "metadata": {},
   "outputs": [],
   "source": [
    "connection = http.client.HTTPConnection('api.football-data.org')\n",
    "headers = { 'X-Auth-Token': API_SOCCER }"
   ]
  },
  {
   "cell_type": "code",
   "execution_count": 39,
   "metadata": {},
   "outputs": [],
   "source": [
    "# Eredivisie, Premier League, Bundesliga, Ligue 1, Serie A, Primera Divison\n",
    "competitions = ['DED', 'PL', 'BL1', 'FL1', 'SA', 'PD']\n",
    "seasons = [2018,2019,2020]"
   ]
  },
  {
   "cell_type": "code",
   "execution_count": 40,
   "metadata": {},
   "outputs": [],
   "source": [
    "## Retreiving the data\n",
    "for comp in competitions:\n",
    "    for season in seasons:\n",
    "        connection.request('GET', f\"/v2/competitions/{comp}/matches?season={season}&status=FINISHED\", None, headers )\n",
    "        response = json.loads(connection.getresponse().read().decode())\n",
    "        \n",
    "        # Creating the empty DataFrame\n",
    "        matches = pd.DataFrame()\n",
    "        \n",
    "        # Appending every match the the newly created DataFrame\n",
    "        for match in response['matches']:\n",
    "            matches = matches.append(match, ignore_index=True)\n",
    "            \n",
    "        ## Preprocessing\n",
    "        # Correct type for ID and setting as index\n",
    "        matches['id'] = matches['id'].astype('int32')\n",
    "        matches = matches.set_index('id')\n",
    "        matches.index = matches.index.astype('int64')\n",
    "        # Remove odds\n",
    "        matches = matches.drop(columns=['odds'])\n",
    "        # Include winner as separate column\n",
    "        matches['winner'] = [d.get('winner') for d in matches.score]\n",
    "        # Include home team and away team as separate column\n",
    "        matches['homeTeamName'] = [d.get('name') for d in matches.homeTeam]\n",
    "        matches['awayTeamName'] = [d.get('name') for d in matches.awayTeam]\n",
    "        \n",
    "        ## Saving the data\n",
    "        matches.to_csv(f\"data/{comp}_{season}.csv\")\n",
    "        matches.to_pickle(f\"data/{comp}_{season}.pickle\")\n",
    "        \n",
    "        # Sleep 10 seconds, because we only have 10 calls per minute\n",
    "        time.sleep(10)"
   ]
  },
  {
   "cell_type": "code",
   "execution_count": null,
   "metadata": {},
   "outputs": [],
   "source": []
  }
 ],
 "metadata": {
  "kernelspec": {
   "display_name": "Python 3",
   "language": "python",
   "name": "python3"
  },
  "language_info": {
   "codemirror_mode": {
    "name": "ipython",
    "version": 3
   },
   "file_extension": ".py",
   "mimetype": "text/x-python",
   "name": "python",
   "nbconvert_exporter": "python",
   "pygments_lexer": "ipython3",
   "version": "3.9.0"
  }
 },
 "nbformat": 4,
 "nbformat_minor": 4
}
