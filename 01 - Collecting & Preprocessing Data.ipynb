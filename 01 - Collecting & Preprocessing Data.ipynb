{
 "cells": [
  {
   "cell_type": "code",
   "execution_count": 1,
   "metadata": {},
   "outputs": [],
   "source": [
    "import http.client\n",
    "import json\n",
    "import os\n",
    "import pandas as pd\n",
    "import time\n",
    "import numpy as np"
   ]
  },
  {
   "cell_type": "code",
   "execution_count": 2,
   "metadata": {},
   "outputs": [],
   "source": [
    "API_SOCCER = os.environ.get(\"API_SOCCER\")"
   ]
  },
  {
   "cell_type": "markdown",
   "metadata": {},
   "source": [
    "# Collecting Data"
   ]
  },
  {
   "cell_type": "code",
   "execution_count": 38,
   "metadata": {},
   "outputs": [],
   "source": [
    "connection = http.client.HTTPConnection('api.football-data.org')\n",
    "headers = { 'X-Auth-Token': API_SOCCER }"
   ]
  },
  {
   "cell_type": "code",
   "execution_count": 39,
   "metadata": {},
   "outputs": [],
   "source": [
    "# Eredivisie, Premier League, Bundesliga, Ligue 1, Serie A, Primera Divison\n",
    "competitions = ['DED', 'PL', 'BL1', 'FL1', 'SA', 'PD']\n",
    "seasons = [2018,2019,2020]"
   ]
  },
  {
   "cell_type": "code",
   "execution_count": 40,
   "metadata": {},
   "outputs": [],
   "source": [
    "## Retreiving the data\n",
    "for comp in competitions:\n",
    "    for season in seasons:\n",
    "        connection.request('GET', f\"/v2/competitions/{comp}/matches?season={season}&status=FINISHED\", None, headers )\n",
    "        response = json.loads(connection.getresponse().read().decode())\n",
    "        \n",
    "        # Creating the empty DataFrame\n",
    "        matches = pd.DataFrame()\n",
    "        \n",
    "        # Appending every match the the newly created DataFrame\n",
    "        for match in response['matches']:\n",
    "            matches = matches.append(match, ignore_index=True)\n",
    "            \n",
    "        ## Preprocessing\n",
    "        # Correct type for ID and setting as index\n",
    "        matches['id'] = matches['id'].astype('int32')\n",
    "        matches = matches.set_index('id')\n",
    "        matches.index = matches.index.astype('int64')\n",
    "        # Remove odds\n",
    "        matches = matches.drop(columns=['odds'])\n",
    "        # Include winner as separate column\n",
    "        matches['winner'] = [d.get('winner') for d in matches.score]\n",
    "        # Include home team and away team as separate column\n",
    "        matches['homeTeamName'] = [d.get('name') for d in matches.homeTeam]\n",
    "        matches['awayTeamName'] = [d.get('name') for d in matches.awayTeam]\n",
    "        \n",
    "        ## Saving the data\n",
    "        matches.to_csv(f\"data/{comp}_{season}.csv\")\n",
    "        matches.to_pickle(f\"data/{comp}_{season}.pickle\")\n",
    "        \n",
    "        # Sleep 10 seconds, because we only have 10 calls per minute\n",
    "        time.sleep(10)"
   ]
  },
  {
   "cell_type": "markdown",
   "metadata": {},
   "source": [
    "## Combining datasets into a big one\n",
    "We will first add a column indicating whether or not the date was pre/post corona, and then combine all datasets"
   ]
  },
  {
   "cell_type": "code",
   "execution_count": 1,
   "metadata": {},
   "outputs": [],
   "source": [
    "# Eredivisie, Premier League, Bundesliga, Ligue 1, Serie A, Primera Divison\n",
    "competitions = ['DED', 'PL', 'BL1', 'FL1', 'SA', 'PD']\n",
    "seasons = [2018]"
   ]
  },
  {
   "cell_type": "code",
   "execution_count": 4,
   "metadata": {},
   "outputs": [],
   "source": [
    "for comp in competitions:\n",
    "    for season in seasons:\n",
    "        df = pd.read_pickle(f\"data/{comp}_{season}.pickle\")\n",
    "        df[\"corona\"] = \"pre\"\n",
    "        df.to_pickle(f\"data/{comp}_{season}.pickle\")"
   ]
  },
  {
   "cell_type": "code",
   "execution_count": 7,
   "metadata": {},
   "outputs": [],
   "source": [
    "# Eredivisie, Premier League, Bundesliga, Ligue 1, Serie A, Primera Divison\n",
    "competitions = ['DED', 'PL', 'BL1', 'FL1', 'SA', 'PD']\n",
    "seasons = [2019]"
   ]
  },
  {
   "cell_type": "code",
   "execution_count": 10,
   "metadata": {},
   "outputs": [],
   "source": [
    "# Dates manually looked up on worldfootball.net\n",
    "\n",
    "for comp in competitions:\n",
    "    for season in seasons:\n",
    "        df = pd.read_pickle(f\"data/{comp}_{season}.pickle\")\n",
    "        df[\"utcDate\"] = pd.to_datetime(df[\"utcDate\"]).dt.tz_localize(None)\n",
    "        if comp == 'DED':\n",
    "            df[\"corona\"] = \"pre\"\n",
    "            df.to_pickle(f\"data/{comp}_{season}.pickle\")\n",
    "        elif comp == \"PL\":\n",
    "            #1st of March, last game with fans\n",
    "            df[\"corona\"]= np.where(df[\"utcDate\"] <= pd.Timestamp(\"2020-03-01\").floor('D'),\"pre\",\"post\")\n",
    "            df.to_pickle(f\"data/{comp}_{season}.pickle\")\n",
    "        elif comp == \"BL1\":\n",
    "            #8th of March, last game with fans\n",
    "            df[\"corona\"]= np.where(df[\"utcDate\"] <= pd.Timestamp(\"2020-03-08\").floor('D'),\"pre\",\"post\")\n",
    "            df.to_pickle(f\"data/{comp}_{season}.pickle\")\n",
    "        elif comp == \"FL1\":\n",
    "            df[\"corona\"] = \"pre\"\n",
    "            df.to_pickle(f\"data/{comp}_{season}.pickle\")\n",
    "        elif comp == \"SA\":\n",
    "            #1st of March, last game with fans\n",
    "            df[\"corona\"]= np.where(df[\"utcDate\"] <= pd.Timestamp(\"2020-03-01\").floor('D'),\"pre\",\"post\")\n",
    "            df.to_pickle(f\"data/{comp}_{season}.pickle\")\n",
    "        elif comp == \"PD\":\n",
    "            #8th of March, last game with fans\n",
    "            df[\"corona\"]= np.where(df[\"utcDate\"] <= pd.Timestamp(\"2020-03-08\").floor('D'),\"pre\",\"post\")            \n",
    "            df.to_pickle(f\"data/{comp}_{season}.pickle\")\n",
    "                "
   ]
  },
  {
   "cell_type": "code",
   "execution_count": 5,
   "metadata": {},
   "outputs": [],
   "source": [
    "# Eredivisie, Premier League, Bundesliga, Ligue 1, Serie A, Primera Divison\n",
    "competitions = ['DED', 'PL', 'BL1', 'FL1', 'SA', 'PD']\n",
    "seasons = [2020]"
   ]
  },
  {
   "cell_type": "code",
   "execution_count": 6,
   "metadata": {},
   "outputs": [],
   "source": [
    "for comp in competitions:\n",
    "    for season in seasons:\n",
    "        df = pd.read_pickle(f\"data/{comp}_{season}.pickle\")\n",
    "        df[\"corona\"] = \"post\"\n",
    "        df.to_pickle(f\"data/{comp}_{season}.pickle\")"
   ]
  },
  {
   "cell_type": "code",
   "execution_count": 4,
   "metadata": {},
   "outputs": [],
   "source": [
    "# Eredivisie, Premier League, Bundesliga, Ligue 1, Serie A, Primera Divison\n",
    "competitions = ['DED', 'PL', 'BL1', 'FL1', 'SA', 'PD']\n",
    "seasons = [2018,2019,2020]"
   ]
  },
  {
   "cell_type": "code",
   "execution_count": 5,
   "metadata": {
    "pycharm": {
     "name": "#%%\n"
    }
   },
   "outputs": [],
   "source": [
    "final_df = pd.DataFrame()\n",
    "\n",
    "for comp in competitions:\n",
    "    for season in seasons:\n",
    "        df = pd.read_pickle(f\"data/{comp}_{season}.pickle\")\n",
    "        df[\"utcDate\"] = pd.to_datetime(df[\"utcDate\"]).dt.tz_localize(None)\n",
    "        df[\"league\"] = comp\n",
    "        df[\"year\"] = season\n",
    "        final_df = final_df.append(df)\n",
    "        \n",
    "final_df.to_pickle(\"data/all_data.pickle\")\n",
    "final_df.to_csv(\"data/all_data.csv\")"
   ]
  }
 ],
 "metadata": {
  "kernelspec": {
   "display_name": "Python 3",
   "language": "python",
   "name": "python3"
  },
  "language_info": {
   "codemirror_mode": {
    "name": "ipython",
    "version": 3
   },
   "file_extension": ".py",
   "mimetype": "text/x-python",
   "name": "python",
   "nbconvert_exporter": "python",
   "pygments_lexer": "ipython3",
   "version": "3.8.5"
  }
 },
 "nbformat": 4,
 "nbformat_minor": 4
}